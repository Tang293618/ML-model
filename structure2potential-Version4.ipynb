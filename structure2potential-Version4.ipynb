{
 "cells": [
  {
   "cell_type": "markdown",
   "metadata": {},
   "source": [
    "# 原子体系建模"
   ]
  },
  {
   "cell_type": "code",
   "execution_count": 1,
   "metadata": {},
   "outputs": [],
   "source": [
    "import numpy as np\n",
    "from scipy.spatial import distance\n",
    "from matplotlib import pyplot as plt\n",
    "from mpl_toolkits.mplot3d import Axes3D  #3D plot"
   ]
  },
  {
   "cell_type": "markdown",
   "metadata": {},
   "source": [
    "经验势$E_{\\mathrm{emp}}=V(r_1,r_2)$和切割半径$R_{\\mathrm{cut}}$表示函数"
   ]
  },
  {
   "cell_type": "code",
   "execution_count": 2,
   "metadata": {},
   "outputs": [],
   "source": [
    "def emperical_potential(r1,r2,a=5,b=5):\n",
    "    d = distance.euclidean(r1,r2)\n",
    "    return a / (d ** 12) - b / (d ** 6)"
   ]
  },
  {
   "cell_type": "code",
   "execution_count": 3,
   "metadata": {},
   "outputs": [],
   "source": [
    "def cutoff_func(r_ij,r_c = 4.0):  #f_c(R_ij)\n",
    "    if r_ij > r_c:\n",
    "        return 0\n",
    "    else:\n",
    "        return 0.5*(np.cos(np.pi * r_ij / r_c) + 1)"
   ]
  },
  {
   "cell_type": "code",
   "execution_count": 57,
   "metadata": {},
   "outputs": [
    {
     "data": {
      "text/plain": [
       "[<matplotlib.lines.Line2D at 0x24bca5063c8>]"
      ]
     },
     "execution_count": 57,
     "metadata": {},
     "output_type": "execute_result"
    },
    {
     "data": {
      "image/png": "[encoded data removed]",
      "text/plain": [
       "<Figure size 432x288 with 1 Axes>"
      ]
     },
     "metadata": {
      "needs_background": "light"
     },
     "output_type": "display_data"
    }
   ],
   "source": [
    "r = np.linspace(1.0,2.8,300)\n",
    "value = np.array([emperical_potential(i,0) for i in r])\n",
    "plt.plot(r,value)"
   ]
  },
  {
   "cell_type": "markdown",
   "metadata": {},
   "source": [
    "原子类,包含原子坐标"
   ]
  },
  {
   "cell_type": "code",
   "execution_count": 5,
   "metadata": {},
   "outputs": [],
   "source": [
    "class Atom():\n",
    "    def __init__(self,coords):\n",
    "        self.coords = coords\n",
    "        self.individual_potential = 0\n",
    "        self.g1_value = 0  #径向对称函数\n",
    "        self.g2_value = 0  #径向对称函数\n",
    "        self.g3_value = 0  #径向对称函数\n",
    "    def individual_potential_cal(self,neighbors):\n",
    "        for neighbor in neighbors:  #neighbors为相对距离列表\n",
    "            self.individual_potential += 0.5 * emperical_potential(0,neighbor)\n",
    "    def g1_cal(self,neighbors):\n",
    "        for neighbor in neighbors:\n",
    "            self.g1_value += cutoff_func(neighbor)\n",
    "    def g2_cal(self,neighbors,eta = 0.4,r_s = 1.0):\n",
    "        for neighbor in neighbors:\n",
    "            self.g2_value += np.exp(-eta * (neighbor-r_s)**2)*cutoff_func(neighbor)\n",
    "    def g3_cal(self,neighbors,kappa = 0.4):\n",
    "        for neighbor in neighbors:\n",
    "            self.g3_value += np.cos(kappa*neighbor)*cutoff_func(neighbor)"
   ]
  },
  {
   "cell_type": "markdown",
   "metadata": {},
   "source": [
    "原子点集类,含维数、总势能、原子个数、坐标范围等参数,并有随机生成、输入列表生成、势能计算等方法"
   ]
  },
  {
   "cell_type": "code",
   "execution_count": 6,
   "metadata": {},
   "outputs": [],
   "source": [
    "class AtomCollection():\n",
    "    def __init__(self):\n",
    "        \"\"\"\n",
    "        Args:\n",
    "        coords_range: suppose (x, ...) is the coordinate of an atom while range is (a,b), then a<x<b, ...\n",
    "        \"\"\"\n",
    "        self.atoms = []\n",
    "        self.num = 0\n",
    "        self.dimension = 0\n",
    "        self.potential = 0\n",
    "        self.coords_range=(-10,10)\n",
    "        \n",
    "    def random_generate(self,size,dimension=2):\n",
    "        \"\"\"generate a collection of atoms by using random numbers\n",
    "        \n",
    "        Args:\n",
    "            size: the number of atoms in self.atoms\n",
    "            dimension: 2 or 3\n",
    "        \"\"\"\n",
    "        self.dimension = dimension\n",
    "        temp_coords = np.random.uniform(self.coords_range[0],self.coords_range[1],\n",
    "                                        dimension).tolist()  #1*dimension shape-like list\n",
    "        self.num += 1\n",
    "        self.atoms.append(Atom(temp_coords))\n",
    "        while self.num < size:\n",
    "            flag = True\n",
    "            temp_coords = np.random.uniform(self.coords_range[0],self.coords_range[1],\n",
    "                                            dimension).tolist()\n",
    "            for atom in self.atoms:\n",
    "                if distance.euclidean(atom.coords,temp_coords) < 1.0:  #太近了先不考虑\n",
    "                    flag = False\n",
    "                    break\n",
    "            if flag is True:\n",
    "                self.num +=1\n",
    "                self.atoms.append(Atom(temp_coords))\n",
    "                    \n",
    "    def list_generate(self,coords_list):\n",
    "        \"\"\"generate a collection of atoms by using a given list\n",
    "        \n",
    "        Args:\n",
    "            coords_list: shape like [[1,1,...],[2,2,...],...]\n",
    "        \"\"\"\n",
    "        if coords_list == []:\n",
    "            return\n",
    "        for coords in coords_list:\n",
    "            self.atoms.append(Atom(coords))\n",
    "        self.num = len(coords_list)\n",
    "        self.dimension = len(coords_list[0])\n",
    "    \n",
    "    def distance_cal(self,center):  #计算体系中其他所有原子和中心原子的相对距离\n",
    "        dis = []\n",
    "        for atom in self.atoms:\n",
    "            if atom is not center:\n",
    "                dis.append(distance.euclidean(atom.coords,center.coords))\n",
    "        return dis\n",
    "    \n",
    "    def potential_cal(self):\n",
    "        \"\"\"calculate the total potential of the atom collection\"\"\"        \n",
    "        for atom in self.atoms: #将每个原子的势能累加得到体系总势能\n",
    "            self.potential += atom.individual_potential\n",
    "        \n",
    "    def plot_atoms(self):\n",
    "        \"\"\"plot all the atoms on one figure\"\"\"\n",
    "        fig = plt.figure()\n",
    "        \n",
    "        if self.dimension == 2:\n",
    "            fig.subplots_adjust(left=0, right=1, bottom=0, top=1)\n",
    "            ax = fig.add_subplot(111, aspect='equal', autoscale_on=False,\n",
    "                         xlim=self.coords_range, ylim=self.coords_range)\n",
    "            for atom in self.atoms:\n",
    "                ax.scatter(atom.coords[0],atom.coords[1], color = 'black')\n",
    "            \n",
    "        if self.dimension == 3:\n",
    "            ax = Axes3D(fig)\n",
    "            for atom in self.atoms:\n",
    "                ax.scatter(atom.coords[0], atom.coords[1],atom.coords[2])\n",
    "            ax.set_zlabel('Z', fontdict={'size': 15, 'color': 'black'})\n",
    "            ax.set_ylabel('Y', fontdict={'size': 15, 'color': 'black'})\n",
    "            ax.set_xlabel('X', fontdict={'size': 15, 'color': 'black'})\n",
    "    \n",
    "    def clear_collection(self):\n",
    "        \"\"\"erase all the coordinates\"\"\"\n",
    "        self.atoms = []\n",
    "        self.num = 0\n",
    "        self.dimension = 0\n",
    "        self.potential = 0\n",
    "        self.coords_range=(-10,10)"
   ]
  },
  {
   "cell_type": "markdown",
   "metadata": {},
   "source": [
    "# 神经网络训练"
   ]
  },
  {
   "cell_type": "code",
   "execution_count": 7,
   "metadata": {},
   "outputs": [],
   "source": [
    "import tensorflow as tf"
   ]
  },
  {
   "cell_type": "markdown",
   "metadata": {},
   "source": [
    "数据整理"
   ]
  },
  {
   "cell_type": "code",
   "execution_count": 8,
   "metadata": {},
   "outputs": [],
   "source": [
    "def data_reshape(atom_collection_set):\n",
    "    \"\"\"reshape the collections, with output like [[g11,g12,g13],[g21,g22,g23],...] & [E1,E2,...]\"\"\"\n",
    "    g_factors = []\n",
    "    potentials = []\n",
    "    for collection in atom_collection_set:\n",
    "        for atom in collection.atoms:\n",
    "            #g_factors.append([atom.g1_value,atom.g2_value])\n",
    "            g_factors.append([atom.g1_value,atom.g2_value,atom.g3_value])\n",
    "            potentials.append(atom.individual_potential)\n",
    "            #print(atom.individual_potential)\n",
    "            #print(len(potentials))\n",
    "    return np.array(g_factors),np.array(potentials)"
   ]
  },
  {
   "cell_type": "code",
   "execution_count": 9,
   "metadata": {},
   "outputs": [],
   "source": [
    "def get_batch(params,energies,batch_size):\n",
    "    index = np.random.randint(0, len(energies), batch_size)\n",
    "    return params[index],energies[index]"
   ]
  },
  {
   "cell_type": "markdown",
   "metadata": {},
   "source": [
    "网络模型"
   ]
  },
  {
   "cell_type": "code",
   "execution_count": 16,
   "metadata": {},
   "outputs": [],
   "source": [
    "class MLP(tf.keras.Model):\n",
    "    def __init__(self):\n",
    "        super().__init__()\n",
    "        self.dense1_g1 = tf.keras.layers.Dense(units=35,activation = tf.nn.tanh)\n",
    "        self.dense1_g2 = tf.keras.layers.Dense(units=35,activation = tf.nn.tanh)\n",
    "        #self.dense1_g3 = tf.keras.layers.Dense(units=35,activation = tf.nn.tanh)\n",
    "        self.dense2_g1 = tf.keras.layers.Dense(units=1)\n",
    "        self.dense2_g2 = tf.keras.layers.Dense(units=1)\n",
    "        #self.dense2_g3 = tf.keras.layers.Dense(units=1)\n",
    "\n",
    "    def call(self, inputs):\n",
    "        g1 = tf.slice(inputs,[0,0],[-1,1])  #tf.slice(data,begin,size)\n",
    "        g1 = tf.reshape(g1,[-1,1])\n",
    "        g2 = tf.slice(inputs,[0,1],[-1,1])\n",
    "        g2 = tf.reshape(g2,[-1,1])\n",
    "        #g3 = tf.slice(inputs,[0,2],[-1,1])\n",
    "        #g3 = tf.reshape(g3,[-1,1])\n",
    "        g1 = self.dense1_g1(g1)\n",
    "        g1 = self.dense2_g1(g1)\n",
    "        g2 = self.dense1_g2(g2)\n",
    "        g2 = self.dense2_g2(g2)\n",
    "        #g3 = self.dense1_g3(g3)\n",
    "        #g3 = self.dense2_g3(g3)\n",
    "        #output = g1 + g2 + g3\n",
    "        output = g1 + g2\n",
    "        return output"
   ]
  },
  {
   "cell_type": "markdown",
   "metadata": {},
   "source": [
    "超参数hyperparameters"
   ]
  },
  {
   "cell_type": "code",
   "execution_count": 49,
   "metadata": {},
   "outputs": [],
   "source": [
    "#network params\n",
    "num_epoch = 1.0\n",
    "batch_size = 10\n",
    "rate = 0.0005\n",
    "\n",
    "# params of configurations generation\n",
    "atom_size = 50\n",
    "configurations = 400\n",
    "dim = 3\n",
    "\n",
    "#test params\n",
    "test_size = 20\n",
    "test_atoms = 50"
   ]
  },
  {
   "cell_type": "markdown",
   "metadata": {},
   "source": [
    "建数据集"
   ]
  },
  {
   "cell_type": "code",
   "execution_count": 52,
   "metadata": {},
   "outputs": [],
   "source": [
    "config = 0\n",
    "train_collections = []\n",
    "r_ij = []\n",
    "          \n",
    "while config < configurations:\n",
    "    temp = AtomCollection()\n",
    "    temp.random_generate(size = atom_size,dimension = dim)\n",
    "    for atom in temp.atoms:\n",
    "        r_ij = []\n",
    "        r_ij = temp.distance_cal(atom)\n",
    "        atom.individual_potential_cal(r_ij)\n",
    "        atom.g1_cal(r_ij)\n",
    "        atom.g2_cal(r_ij)\n",
    "        atom.g3_cal(r_ij)\n",
    "        #print(len([i for i in r_ij if i < 4.0]))\n",
    "    train_collections.append(temp)\n",
    "    config += 1"
   ]
  },
  {
   "cell_type": "code",
   "execution_count": 53,
   "metadata": {},
   "outputs": [
    {
     "data": {
      "text/plain": [
       "array([-0.01863362, -0.00147641, -0.11761026, -0.00063209, -0.0014021 ,\n",
       "       -0.00191996, -0.00654666, -0.00066373, -0.11424959, -0.08586999,\n",
       "       -0.00162616, -0.03539739, -0.03019381, -0.09916851, -0.01167505])"
      ]
     },
     "execution_count": 53,
     "metadata": {},
     "output_type": "execute_result"
    }
   ],
   "source": [
    "g_factors,potentials = data_reshape(train_collections)\n",
    "#len(train_collections)\n",
    "#g_factors[:15]\n",
    "potentials[:15]"
   ]
  },
  {
   "cell_type": "markdown",
   "metadata": {},
   "source": [
    "训练及测试评估"
   ]
  },
  {
   "cell_type": "code",
   "execution_count": 54,
   "metadata": {},
   "outputs": [
    {
     "name": "stdout",
     "output_type": "stream",
     "text": [
      "batch 0: loss 0.05427857115864754\n",
      "batch 100: loss 0.043002426624298096\n",
      "batch 200: loss 0.003390443976968527\n",
      "batch 300: loss 0.0021891146898269653\n",
      "batch 400: loss 0.02803046628832817\n",
      "batch 500: loss 0.001037684385664761\n",
      "batch 600: loss 0.0021903901360929012\n",
      "batch 700: loss 0.0058635869063436985\n",
      "batch 800: loss 0.00862852018326521\n",
      "batch 900: loss 0.0021946546621620655\n",
      "batch 1000: loss 0.06812919676303864\n",
      "batch 1100: loss 0.011598153039813042\n",
      "batch 1200: loss 0.020327948033809662\n",
      "batch 1300: loss 0.0047758170403540134\n",
      "batch 1400: loss 0.0008714799769222736\n",
      "batch 1500: loss 0.03561095520853996\n",
      "batch 1600: loss 0.050026923418045044\n",
      "batch 1700: loss 0.06650323420763016\n",
      "batch 1800: loss 0.0011777550680562854\n",
      "batch 1900: loss 0.02558363974094391\n"
     ]
    }
   ],
   "source": [
    "#训练\n",
    "model = MLP()\n",
    "optimizer = tf.keras.optimizers.Adam(learning_rate=rate)\n",
    "num_batches = int(len(potentials)//batch_size*num_epoch)\n",
    "\n",
    "for batch_index in range(num_batches):\n",
    "    X_train,y_train = get_batch(g_factors,potentials,batch_size)  #X: (batch_size,num_of_factors), y: (batch_size,)\n",
    "    X_train = tf.convert_to_tensor(X_train,dtype = 'float32')\n",
    "    with tf.GradientTape() as tape:\n",
    "        y_pred = model(X_train)\n",
    "        y_temp = tf.convert_to_tensor(y_train.reshape(-1,1),dtype = 'float32')\n",
    "        loss = 0.5 * tf.reduce_sum(tf.square(y_pred - y_temp))\n",
    "        if batch_index % 100 == 0:\n",
    "            print(\"batch {}: loss {}\".format(batch_index,loss.numpy()))\n",
    "    grad = tape.gradient(loss,model.variables)  #model.variables直接调用模型变量\n",
    "    optimizer.apply_gradients(grads_and_vars=zip(grad,model.variables))"
   ]
  },
  {
   "cell_type": "code",
   "execution_count": 55,
   "metadata": {},
   "outputs": [
    {
     "name": "stdout",
     "output_type": "stream",
     "text": [
      "Theoretical Value:-0.9477840737686053,Predicted Value:-1.002916932106018,Relative Error:0.058170273022411075\n",
      "Theoretical Value:-2.5084776683116603,Predicted Value:-2.8143064975738525,Relative Error:0.12191809922231893\n",
      "Theoretical Value:-2.139826198650186,Predicted Value:-2.5480904579162598,Relative Error:0.1907931866259088\n",
      "Theoretical Value:-1.2453735249360673,Predicted Value:-2.0629076957702637,Relative Error:0.6564570022284402\n",
      "Theoretical Value:-1.9488084931108034,Predicted Value:-3.055981159210205,Relative Error:0.5681279971907692\n",
      "Theoretical Value:-0.8226576506322317,Predicted Value:-1.9229614734649658,Relative Error:1.337499045911899\n",
      "Theoretical Value:-1.5404364006326379,Predicted Value:-2.1267876625061035,Relative Error:0.3806397080935367\n",
      "Theoretical Value:-1.0377158254975938,Predicted Value:-1.4476255178451538,Relative Error:0.39501150726982964\n",
      "Theoretical Value:-3.138030390799711,Predicted Value:-3.252650737762451,Relative Error:0.03652620678843389\n",
      "Theoretical Value:-2.0258860216479966,Predicted Value:-3.014378070831299,Relative Error:0.4879307318479813\n",
      "Theoretical Value:-0.6576619211589676,Predicted Value:-1.230400800704956,Relative Error:0.8708712806979563\n",
      "Theoretical Value:-3.3122035369558334,Predicted Value:-3.3988263607025146,Relative Error:0.026152627029163263\n",
      "Theoretical Value:-1.4543390528526243,Predicted Value:-1.8994450569152832,Relative Error:0.30605380718450925\n",
      "Theoretical Value:-1.0022184772461598,Predicted Value:-1.6958571672439575,Relative Error:0.6921032746310362\n",
      "Theoretical Value:-3.4966782249185564,Predicted Value:-2.417086124420166,Relative Error:0.30874791189101647\n",
      "Theoretical Value:-0.7324867652562757,Predicted Value:-1.3663337230682373,Relative Error:0.8653357137315609\n",
      "Theoretical Value:-1.984570560069636,Predicted Value:-2.6618826389312744,Relative Error:0.3412889884035529\n",
      "Theoretical Value:-2.808565391995436,Predicted Value:-3.179605722427368,Relative Error:0.13211026935296483\n",
      "Theoretical Value:-2.566365591775562,Predicted Value:-3.5408833026885986,Relative Error:0.3797267677045218\n",
      "Theoretical Value:-0.6960999458246868,Predicted Value:-1.5209476947784424,Relative Error:1.1849559160309056\n"
     ]
    }
   ],
   "source": [
    "#建立几个原子集合看看效果\n",
    "for size in range(test_size):\n",
    "    atoms_sample = AtomCollection()\n",
    "    atoms_sample.random_generate(size = test_atoms,dimension = dim)\n",
    "    dist = []\n",
    "    for atom in atoms_sample.atoms:\n",
    "        dist = atoms_sample.distance_cal(atom)\n",
    "        atom.individual_potential_cal(dist)\n",
    "        atom.g1_cal(dist)\n",
    "        atom.g2_cal(dist)\n",
    "        atom.g3_cal(dist)\n",
    "        #print(atom.individual_potential)\n",
    "        dist = []\n",
    "    atoms_sample.potential_cal()\n",
    "    \n",
    "    #测试评估\n",
    "    X_sample,y_sample = data_reshape([atoms_sample])\n",
    "    energy_pred = model.predict(X_sample)\n",
    "    print(\"Theoretical Value:{},Predicted Value:{},Relative Error:{}\".format(\n",
    "        atoms_sample.potential,energy_pred.sum(),abs((atoms_sample.potential-energy_pred.sum())/atoms_sample.potential)))"
   ]
  },
  {
   "cell_type": "code",
   "execution_count": null,
   "metadata": {},
   "outputs": [],
   "source": []
  },
  {
   "cell_type": "code",
   "execution_count": null,
   "metadata": {},
   "outputs": [],
   "source": []
  }
 ],
 "metadata": {
  "kernelspec": {
   "display_name": "Python 3",
   "language": "python",
   "name": "python3"
  },
  "language_info": {
   "codemirror_mode": {
    "name": "ipython",
    "version": 3
   },
   "file_extension": ".py",
   "mimetype": "text/x-python",
   "name": "python",
   "nbconvert_exporter": "python",
   "pygments_lexer": "ipython3",
   "version": "3.7.4"
  }
 },
 "nbformat": 4,
 "nbformat_minor": 2
}
